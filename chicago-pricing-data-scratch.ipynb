{
 "cells": [
  {
   "cell_type": "markdown",
   "id": "6fd30ae9-0955-4739-b8e3-397d8db04cbb",
   "metadata": {},
   "source": [
    "### Northwestern Memorial Pricing Data\n",
    "\n",
    "### Description\n",
    "Consolidate charge and rates data from the following providers.\n",
    "\n",
    "Target URL: `https://www.nm.org/patients-and-visitors/billing-and-insurance/chargemaster`\n",
    "\n",
    "Providers\n",
    "* Northwestern Memorial Hospital\n",
    "* Northwestern Medicine Central DuPage Hospital\n",
    "* Northwestern Medicine Lake Forest Hospital\n",
    "* Northwestern Medicine Delnor Hospital \n",
    "* Northwestern Medicine Kishwaukee Hospital\n",
    "* Northwestern Medicine Valley West Hospital\n",
    "* Northwestern Medicine Marianjoy Rehabilitation Hospital\n",
    "* Northwestern Medicine Huntley Hospital\n",
    "* Northwestern Medicine McHenry Hospital\n",
    "* Northwestern Medicine Woodstock Hospital\n",
    "* Northwestern Medicine Palos Hospital\n",
    "\n",
    "Parsed\n",
    "* Excel charge files for all but Palos. Sections: Services, Medications, Surgical Supplies.\n",
    "* Negotiated rate files for all but Palos\n",
    "\n",
    "TODO\n",
    "* Palos custom Excel negotiate rate file. Charge file N/A.\n",
    "\n",
    "Output data sets (dataframes)\n",
    "* charge data\n",
    "    * `services`\n",
    "    * `medication`\n",
    "    * `surgical_supplies`\n",
    "* negotiated rate data\n",
    "    * `rates`\n",
    "    \n",
    "Notes\n",
    "* There are .txt files in page source that are not visible on the main page. \n",
    "    * The charges in .txt do not match .xlsx files. They appear to be from different time periods.\n",
    "    * These .txt files appear to contain negotiated rate data while the .xlsx files are less useful charge data."
   ]
  },
  {
   "cell_type": "code",
   "execution_count": null,
   "id": "a4171e4b-b7e4-4c9f-aab4-adb829c1e83d",
   "metadata": {},
   "outputs": [],
   "source": [
    "from pprint import pprint\n",
    "import re\n",
    "\n",
    "from bs4 import BeautifulSoup\n",
    "import pandas as pd\n",
    "import requests\n",
    "\n",
    "pd.set_option('display.max_colwidth', None)\n",
    "pd.set_option('display.max_columns', None)\n",
    "pd.set_option('display.max_rows', 1000)\n",
    "\n",
    "url = 'https://www.nm.org/patients-and-visitors/billing-and-insurance/chargemaster'\n",
    "soup = BeautifulSoup(requests.get(url).text, 'html.parser')\n",
    "\n",
    "### gather charge URLs\n",
    "charge_elements = soup.select('.panel-content')[3].find_all('a')\n",
    "charge_lookup = {}\n",
    "for e in charge_elements:\n",
    "    # TODO: make edge case for Palos non-standardized file\n",
    "    if 'Palos Hospital' in e.text:\n",
    "        continue\n",
    "    charge_lookup[e.text] = url + e['href']\n",
    "    \n",
    "pprint(charge_lookup)\n",
    "\n",
    "### gather negotiated rate URLs\n",
    "rate_elements = soup.select('.panel-content')[1].find_all('a')\n",
    "rate_lookup = {}\n",
    "for e in rate_elements:\n",
    "    if 'Palos Hospital' in e.text:\n",
    "        # TODO: make edge case for Palos non-standardized file\n",
    "        continue\n",
    "    rate_lookup[e.text] = url + e['href']\n",
    "    \n",
    "print()\n",
    "pprint(rate_lookup)"
   ]
  },
  {
   "cell_type": "markdown",
   "id": "e39ff37b-78c9-45f9-a5ed-f0623b7d1e11",
   "metadata": {},
   "source": [
    "### Retrieve charge data into pandas"
   ]
  },
  {
   "cell_type": "code",
   "execution_count": null,
   "id": "14fcce9d-e485-4d41-801c-d237ef98dfb4",
   "metadata": {},
   "outputs": [],
   "source": [
    "#############################################\n",
    "### retrieve and consolidate charges\n",
    "#############################################\n",
    "\n",
    "def cleanup_cols(df):\n",
    "    \"\"\"We will pipe this func on each dataframe in loop before consolidating df's.\"\"\"\n",
    "    df.columns = [col.lower().replace(' ', '_') for col in df.columns]\n",
    "    return df\n",
    "\n",
    "services = pd.DataFrame()\n",
    "medications = pd.DataFrame()\n",
    "surgical_supplies = pd.DataFrame()\n",
    "\n",
    "for label, url in charge_lookup.items():\n",
    "    print(url)\n",
    "    _services = (pd.read_excel(url, sheet_name='Services')\n",
    "                   .assign(source=label)\n",
    "                   .pipe(cleanup_cols)\n",
    "                   .rename(columns={'billing_code': 'charge_code'})\n",
    "                )\n",
    "    \n",
    "    _medications = (pd.read_excel(url, sheet_name='Medications')\n",
    "                      .assign(source=label)\n",
    "                      .pipe(cleanup_cols)\n",
    "                      .rename(columns={'code_id': 'supply_code', 'code_description': 'code_name'})\n",
    "                   )\n",
    "    \n",
    "    # concatenate with consolidated df's\n",
    "    services = pd.concat([services, _services])\n",
    "    medications = pd.concat([medications, _medications])\n",
    "    \n",
    "    # Marianjoy and Woodstock do not have Surgical Supplies tab (2/14/22)\n",
    "    try:\n",
    "        _surgical_supplies = (pd.read_excel(url, sheet_name='Surgical Supplies')\n",
    "                                .assign(source=label)\n",
    "                                .pipe(cleanup_cols)\n",
    "                                .rename(columns={'code_id': 'supply_code', 'code_description': 'code_name'})\n",
    "                             )\n",
    "        \n",
    "        surgical_supplies = pd.concat([surgical_supplies, _surgical_supplies])\n",
    "    except ValueError as e:\n",
    "        print('\\t', e)\n",
    "        \n",
    "del _services\n",
    "del _medications\n",
    "del _surgical_supplies"
   ]
  },
  {
   "cell_type": "code",
   "execution_count": null,
   "id": "1cde3389-d13a-4a98-9edc-42ab83469477",
   "metadata": {},
   "outputs": [],
   "source": [
    "#############################################\n",
    "### retrieve and consolidate negotiated rates\n",
    "#############################################\n",
    "rates = pd.DataFrame()\n",
    "for label, url in rate_lookup.items():\n",
    "    print(url)\n",
    "    _rates = (pd.read_csv(url, encoding='latin1', sep='|')\n",
    "                .assign(source=label)\n",
    "                .pipe(cleanup_cols)\n",
    "             )\n",
    "    \n",
    "    charge_cols = [col for col in _rates.columns if re.search('discount|charge', col) is not None]\n",
    "    non_charge_cols = set(_rates.columns) - set(charge_cols)    \n",
    "    \n",
    "    _rates = _rates.melt(id_vars=non_charge_cols, value_vars=charge_cols, var_name='rate_amt_type', value_name='rate_amt')\n",
    "    rates = pd.concat([rates, _rates])\n",
    "    \n",
    "rates['rate_amt'] = rates['rate_amt'].str.replace('$', '', regex=False).astype(float)"
   ]
  },
  {
   "cell_type": "markdown",
   "id": "a2e3cafd-2b0e-4c79-bcf6-aa29eb635b80",
   "metadata": {},
   "source": [
    "### Inspect charge data\n",
    "See `source` column for provider source."
   ]
  },
  {
   "cell_type": "code",
   "execution_count": null,
   "id": "624b64c8-c4fd-4c9c-866b-d52d1594d9dd",
   "metadata": {},
   "outputs": [],
   "source": [
    "services.head()"
   ]
  },
  {
   "cell_type": "code",
   "execution_count": null,
   "id": "7fadb6c8-116d-4b20-884a-79344fbcfd0d",
   "metadata": {},
   "outputs": [],
   "source": [
    "medications.head()"
   ]
  },
  {
   "cell_type": "code",
   "execution_count": null,
   "id": "1513ac04-38c6-4a0e-8c9e-4edd5c13265e",
   "metadata": {},
   "outputs": [],
   "source": [
    "surgical_supplies.head()"
   ]
  },
  {
   "cell_type": "markdown",
   "id": "5a48bcad-a15e-47c3-bb82-fa800f9583f5",
   "metadata": {},
   "source": [
    "### Inspect rates data\n",
    "See `source` column for provider source."
   ]
  },
  {
   "cell_type": "code",
   "execution_count": null,
   "id": "98590f03-ff79-49ae-9540-7dab12d55bfc",
   "metadata": {},
   "outputs": [],
   "source": [
    "# query for DRG 795 Normal Newborn rates\n",
    "(rates\n",
    "    .query(\"service_description.str.contains('Normal Newborn')\")\n",
    "    .sort_values(by=['source', 'rate_amt_type'])\n",
    "    .head(20)\n",
    ")"
   ]
  },
  {
   "cell_type": "markdown",
   "id": "29178914-21f7-45d8-817e-990b01ee60ec",
   "metadata": {},
   "source": [
    "Explore billing codes and descriptions"
   ]
  },
  {
   "cell_type": "code",
   "execution_count": null,
   "id": "9896a3c1-b39c-46e1-99be-a769363c8550",
   "metadata": {},
   "outputs": [],
   "source": [
    "(rates.query(\"billing_code.str.contains('7373') | \\\n",
    "             service_description.str.lower().str.contains('xray')\")\n",
    "      .loc[:, ['billing_code', 'service_description']]\n",
    "      .drop_duplicates()\n",
    "      .sort_values(by=['billing_code'])\n",
    ")"
   ]
  },
  {
   "cell_type": "code",
   "execution_count": null,
   "id": "9fa66fa2-18d4-410c-aca3-39c98969be90",
   "metadata": {},
   "outputs": [],
   "source": [
    "(rates.query(\"service_description.str.lower().str.contains('delivery')\")\n",
    "      .loc[:, ['billing_code', 'service_description']]\n",
    "      .drop_duplicates()\n",
    "      .sort_values(by=['billing_code'])\n",
    ")"
   ]
  },
  {
   "cell_type": "code",
   "execution_count": null,
   "id": "3883d06c-f15e-4756-b94d-7ac29c75a6b9",
   "metadata": {},
   "outputs": [],
   "source": [
    "(rates.query(\"billing_code.str.contains('45378') | \\\n",
    "             service_description.str.lower().str.contains('diagnostic colonoscopy')\")\n",
    "      .loc[:, ['billing_code', 'service_description']]\n",
    "      .drop_duplicates()\n",
    "      .sort_values(by=['billing_code'])\n",
    ")"
   ]
  },
  {
   "cell_type": "markdown",
   "id": "51bb5ee0-628b-4c30-ad0d-49d107f48a48",
   "metadata": {},
   "source": [
    "### Ad hoc queries, benchmarking\n",
    "* Query for distributions of negotiated rates across providers. \n",
    "* Exclude min/max, self-pay, and charge amounts."
   ]
  },
  {
   "cell_type": "code",
   "execution_count": null,
   "id": "ff117113-f760-4bc1-b9f0-e59d97d72a40",
   "metadata": {},
   "outputs": [],
   "source": [
    "rates.columns"
   ]
  },
  {
   "cell_type": "code",
   "execution_count": null,
   "id": "9ec67a81-db3c-4e80-82f6-e6f0011d4c0e",
   "metadata": {},
   "outputs": [],
   "source": [
    "# code = '73630'\n",
    "# code = '795'\n",
    "code =  '59409'\n",
    "\n",
    "g = (rates\n",
    "    .query(\"billing_code.str.contains(@code)\")\n",
    "    .query(\"rate_amt_type.str.contains(r'^negotiated_charge.*')\")\n",
    "    .loc[:, ['source', 'rate_amt']]\n",
    "    .groupby(['source'], as_index=True)\n",
    "    .describe()\n",
    "    .loc[:, 'rate_amt']\n",
    "    .sort_values(by=['mean'], ascending=False)\n",
    "    .applymap(lambda x: '{:,.0f}'.format(x))\n",
    ")\n",
    "\n",
    "print(f\"Benchmark pricing for code: {code}\")\n",
    "print(g.to_markdown())"
   ]
  },
  {
   "cell_type": "code",
   "execution_count": null,
   "id": "fdb3e762-9ea1-4db0-93f3-d3bdfc254f25",
   "metadata": {},
   "outputs": [],
   "source": [
    "(rates\n",
    "  .query(\"billing_code.str.contains('73630', regex=False)\")\n",
    "  .query(\"source=='Northwestern Memorial Hospital'\") \n",
    "  #.query(\"rate_amt_type.str.contains('cash')\")\n",
    "  .query(\"rate_amt_type.str.contains('negotiated_charge:_bcbs')\")\n",
    "  .sort_values(by=['rate_amt'], ascending=[True])\n",
    ")"
   ]
  },
  {
   "cell_type": "markdown",
   "id": "38269352-a567-4822-b6e0-b18f203b95f4",
   "metadata": {},
   "source": [
    "# Rush University Medical Center"
   ]
  },
  {
   "cell_type": "code",
   "execution_count": null,
   "id": "c7ab08e7-2ec2-4ed8-89b0-e7e2b4c687a6",
   "metadata": {},
   "outputs": [],
   "source": [
    "def tweak_df(df, facility_type=None, label=None): \n",
    "    \"\"\"Skips first row.\"\"\"\n",
    "    if facility_type=='OP' or label=='Rush University Medical Center':\n",
    "        # same effect as skipping first row\n",
    "        df.columns = df.iloc[0, :]\n",
    "        df = df.drop(index=0).reset_index(drop=True)\n",
    "    df.columns = [str(col).lower().replace(' ', '_') for col in df.columns]    \n",
    "    return df\n",
    "\n",
    "rush_lookup = {\n",
    "    \"Rush University Medical Center\": \"https://www.rush.edu/sites/default/files/media-documents/rumc-standard-charges-2022.xlsx\",\n",
    "    \"Rush Copley Medical Center\": \"https://www.rush.edu/sites/default/files/media-documents/rcmc-standard-charges-2022.xlsx\",\n",
    "    \"Rush Oak Park Hospital\": \"https://www.rush.edu/sites/default/files/media-documents/roph-standard-charges-2022.xlsx\",\n",
    "}\n",
    "\n",
    "df_ip = pd.DataFrame()\n",
    "df_op = pd.DataFrame()\n",
    "\n",
    "for label, url in rush_lookup.items():\n",
    "    _df_ip = (pd.read_excel(url, sheet_name='IP')\n",
    "                .pipe(tweak_df, facility_type='IP', label=label)\n",
    "                .assign(source=label)\n",
    "             )\n",
    "\n",
    "    _df_op = (pd.read_excel(url, sheet_name='OP')\n",
    "                .pipe(tweak_df, facility_type='OP')\n",
    "                .dropna(subset=['code_id'])\n",
    "                .assign(source=label)\n",
    "             )\n",
    "    \n",
    "    df_ip = pd.concat([df_ip, _df_ip])\n",
    "    df_op = pd.concat([df_op, _df_op])"
   ]
  },
  {
   "cell_type": "code",
   "execution_count": null,
   "id": "d60a8378-bc0a-43f1-a236-878491a6594d",
   "metadata": {},
   "outputs": [],
   "source": [
    "df_ip = df_ip.rename(columns={'drg_code': 'code'})"
   ]
  },
  {
   "cell_type": "code",
   "execution_count": null,
   "id": "1116a0b5-c1f1-4c9b-beb4-b7143cb66b6d",
   "metadata": {},
   "outputs": [],
   "source": [
    "df_op.shape"
   ]
  },
  {
   "cell_type": "code",
   "execution_count": null,
   "id": "b51998c2-c64d-4056-9027-ef96a3453cac",
   "metadata": {},
   "outputs": [],
   "source": [
    "df_ip.query(\"drg_code=='MS795'\").T"
   ]
  },
  {
   "cell_type": "code",
   "execution_count": null,
   "id": "097cd642-1b55-457e-a941-47a86e232565",
   "metadata": {},
   "outputs": [],
   "source": [
    "# df_op.head()"
   ]
  },
  {
   "cell_type": "code",
   "execution_count": null,
   "id": "6a100244-20ce-47bf-a045-8cc267f40381",
   "metadata": {},
   "outputs": [],
   "source": [
    "# df_op.query(\"~ndc.isna()\").head(10)"
   ]
  },
  {
   "cell_type": "code",
   "execution_count": null,
   "id": "df1c87ca-be10-48c0-aa82-54127f4f5fee",
   "metadata": {},
   "outputs": [],
   "source": [
    "non_rate_cols = ['code_type', 'code_id', 'code_cpt/hcpcs', 'ndc', 'code_description', 'source']\n",
    "rate_cols = set(df_op.columns) - set(non_rate_cols)\n",
    "melted = df_op.melt(id_vars=non_rate_cols, value_vars=rate_cols, var_name='rate_amt_type', value_name='rate_amt')"
   ]
  },
  {
   "cell_type": "code",
   "execution_count": null,
   "id": "628b3667-7b35-4b15-94ff-bdbadd96a3db",
   "metadata": {},
   "outputs": [],
   "source": [
    "melted = melted.rename({\"code_cpt/hcpcs\": \"code\"})"
   ]
  },
  {
   "cell_type": "code",
   "execution_count": null,
   "id": "20b10d11-971f-4ecc-b099-085c8d64f6f9",
   "metadata": {},
   "outputs": [],
   "source": [
    "# melted.shape"
   ]
  },
  {
   "cell_type": "code",
   "execution_count": null,
   "id": "fdf81ff6-67c6-4219-b639-2af3e8cc57d5",
   "metadata": {},
   "outputs": [],
   "source": [
    "melted.head()"
   ]
  },
  {
   "cell_type": "code",
   "execution_count": null,
   "id": "f1dfce4c-98c9-4b1c-ba45-2e26bac9514a",
   "metadata": {},
   "outputs": [],
   "source": []
  }
 ],
 "metadata": {
  "kernelspec": {
   "display_name": "Python 3",
   "language": "python",
   "name": "python3"
  },
  "language_info": {
   "codemirror_mode": {
    "name": "ipython",
    "version": 3
   },
   "file_extension": ".py",
   "mimetype": "text/x-python",
   "name": "python",
   "nbconvert_exporter": "python",
   "pygments_lexer": "ipython3",
   "version": "3.9.4"
  }
 },
 "nbformat": 4,
 "nbformat_minor": 5
}
